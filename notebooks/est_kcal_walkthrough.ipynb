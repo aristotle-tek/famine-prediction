{
 "cells": [
  {
   "cell_type": "markdown",
   "id": "63282acf-0692-4fbd-a2a0-26857b3a489d",
   "metadata": {},
   "source": [
    "# Walkthrough - Estimate calories available country-wide\n",
    "\n",
    "Warning: I am not an expert! This is just a rough 'back of the napkin' calculation. The idea is to see if we can calculate approximately how many calories (kcal) of food are available in Sudan between September 2023 and September 2024. The approach is based on my best reconstruction from what I read in the Clingendael reports and some limited personal correspondence with someone in the field. If you find problems or have suggestions for improvement, please let me know!\n",
    "\n",
    "## Sources\n",
    "\n",
    "- [Sudan: From hunger to death](https://www.clingendael.org/publication/sudan-hunger-death) \n",
    "2024-05-24, Dr. Timmo Gaasbeek. \n",
    "\n",
    "- [From Catastrophe to Famine: Immediate action needed in Sudan to contain mass starvation](https://www.clingendael.org/publication/catastrophe-famine-immediate-action-needed-sudan-contain-mass-starvation) 2024-02-08. Anette Hoffmann. \n",
    "\n",
    "For information on data sources, see /data/metadata/sources.md\n",
    "\n",
    "## Process overview\n",
    "\n",
    "1. Load data on [current grain harvest](##-Load-data-on-harvest)\n",
    "2. Add estimates of [other grain sources](##-Add-estimates-for-other-grain-sources)\n",
    "3. Convert [from metric tons of grain to calories](##-Convert-from-metric-tons-of-grain-to-calories)\n",
    "4. Add in [non-grain sources of food](##-Include-non-grain-sources-of-food)\n",
    "5. Sanity check - assuming equal distribution, [how many days of food is that for the full population?](##-sanity-check)\n",
    "\n"
   ]
  },
  {
   "cell_type": "code",
   "execution_count": 24,
   "id": "a78010d0-0ca7-48b4-82fe-a3e1274a56ae",
   "metadata": {},
   "outputs": [],
   "source": [
    "import os\n",
    "import re\n",
    "import json\n",
    "import numpy as np\n",
    "import pandas as pd\n",
    "import matplotlib.pyplot as plt\n",
    "from pathlib import Path\n",
    "\n",
    "try:\n",
    "    base_path = Path(__file__).resolve().parent.parent\n",
    "except NameError:\n",
    "    base_path = Path.cwd().parent.parent "
   ]
  },
  {
   "cell_type": "code",
   "execution_count": null,
   "id": "a17a7b87-e249-435f-aa10-634f9b56f4f2",
   "metadata": {},
   "outputs": [],
   "source": [
    "print(base_path)"
   ]
  },
  {
   "cell_type": "markdown",
   "id": "134c43fd-f8cb-43b4-a364-d4d43923455a",
   "metadata": {},
   "source": [
    "## Load data on harvest\n",
    "\n",
    "[CFSAM national cereal production estimate](https://www.fao.org/markets-and-trade/publications/detail/en/c/1679419/)\n",
    "citation in Clingendael report as \"FAO, 2024. Special Report 2023: FAO Crop and Food Supply Assessment Mission (CFSAM) to the Sudan, 19 March 2024\"\n",
    "\n",
    "\n",
    "[NB: This matches the summary reported available here](https://reliefweb.int/report/sudan/special-report-2023-fao-crop-and-food-supply-assessment-mission-cfsam-sudan-19-march-2024-enar): \"National cereal production in 2023, including wheat crops to be harvested in March 2024, is estimated at about 4.1 million tonnes\"\n",
    "\n",
    "NB: \"two-thirds of the grain consumed in Sudan is grown locally: mostly sorghum and millet, and some wheat.\" (Clingendael, From Catastrophe to Famine, p.3)\n"
   ]
  },
  {
   "cell_type": "code",
   "execution_count": 25,
   "id": "b02213d7-60c1-4a79-8672-6ee40a127a8f",
   "metadata": {},
   "outputs": [
    {
     "name": "stdout",
     "output_type": "stream",
     "text": [
      "domestically-produced grains 2023-24 (est): 4116230.0 MT\n"
     ]
    }
   ],
   "source": [
    "cereal_file = base_path / 'data' / 'raw' / 'available_calories' / 'FAO_CFSAM_cereal_production.csv'\n",
    "\n",
    "cerdf = pd.read_csv(cereal_file)\n",
    "cerdf.columns = cerdf.columns.str.replace('/', '_')\n",
    "cerdf.columns = cerdf.columns.str.replace(' ', '_')\n",
    "\n",
    "# just get totals - \n",
    "totcereals = cerdf[cerdf.State_Scheme_Sector=='Grand total']\n",
    "\n",
    "tot_sorg = float(totcereals['Sorghum_-_2023_24'].values[0]) * 1000\n",
    "tot_millet = float(totcereals['Millet_-_2023_24'].values[0])* 1000\n",
    "tot_wheat = float(totcereals['Wheat_-_2023_24'].values[0])* 1000\n",
    "\n",
    "\n",
    "total_domestic = tot_sorg + tot_millet + tot_wheat\n",
    "print(f\"domestically-produced grains 2023-24 (est): {total_domestic:.1f} MT\")\n"
   ]
  },
  {
   "cell_type": "markdown",
   "id": "2d8bf498-635f-450b-813a-caed3fb29d79",
   "metadata": {},
   "source": [
    "## Add estimates for other grain sources\n",
    "\n",
    "(details forthcoming)\n"
   ]
  },
  {
   "cell_type": "code",
   "execution_count": 26,
   "id": "595977ec-870f-48bf-9bd0-ff2a5bc20dea",
   "metadata": {},
   "outputs": [],
   "source": [
    "# Cereal availability in metric tons (MT)\n",
    "household_stocks = 320000  # Household-level stocks in MT\n",
    "shop_stocks = 50000  # Stocks in smaller shops in MT\n",
    "company_imports = 800000  # Imports by large companies in MT\n",
    "informal_imports = 300000  # Informal imports in MT\n",
    "food_aid_imports = 150000  # Food aid imports in MT\n",
    "wild_grains = 250000  # Wild grains in MT\n"
   ]
  },
  {
   "cell_type": "markdown",
   "id": "dbf189b0-dbb9-4f47-9f25-da07ef4dda15",
   "metadata": {},
   "source": [
    "We don't know the composition of these different stocks in terms of wheat vs millet vs sorghum, etc. \n",
    "GPT-4 thinks it can guess, and it's probably wrong, but probably not much worse than me, so I'll go with that. For example, it does make sense that there would be more wild sorghum and millet than wild wheat. In any case, as you'll see below, the differences are relatively minor in terms of caloric content."
   ]
  },
  {
   "cell_type": "code",
   "execution_count": 27,
   "id": "86268db3-25ec-4254-8dfe-5940f15578bc",
   "metadata": {},
   "outputs": [
    {
     "name": "stdout",
     "output_type": "stream",
     "text": [
      "Other sorghum: 495000.0 metric tons\n",
      "Other millet: 366000.0 metric tons\n",
      "Other wheat: 1009000.0 metric tons\n"
     ]
    }
   ],
   "source": [
    "# Assumed composition percentages for each food source category\n",
    "\n",
    "# Household stocks: 50% sorghum, 30% millet, 20% wheat\n",
    "household_sorghum = household_stocks * 0.50\n",
    "household_millet = household_stocks * 0.30\n",
    "household_wheat = household_stocks * 0.20\n",
    "\n",
    "# Shop stocks: 40% wheat, 30% sorghum, 30% millet\n",
    "shop_sorghum = shop_stocks * 0.30\n",
    "shop_millet = shop_stocks * 0.30\n",
    "shop_wheat = shop_stocks * 0.40\n",
    "\n",
    "# Company imports: 80% wheat, 10% sorghum, 10% millet\n",
    "company_sorghum = company_imports * 0.10\n",
    "company_millet = company_imports * 0.10\n",
    "company_wheat = company_imports * 0.80\n",
    "\n",
    "# Informal imports: 60% wheat, 20% sorghum, 20% millet\n",
    "informal_sorghum = informal_imports * 0.20\n",
    "informal_millet = informal_imports * 0.20\n",
    "informal_wheat = informal_imports * 0.60\n",
    "\n",
    "# Food aid imports: 70% wheat, 20% sorghum, 10% millet\n",
    "food_aid_sorghum = food_aid_imports * 0.20\n",
    "food_aid_millet = food_aid_imports * 0.10\n",
    "food_aid_wheat = food_aid_imports * 0.70\n",
    "\n",
    "# Wild grains: 60% sorghum, 40% millet\n",
    "wild_sorghum = wild_grains * 0.60\n",
    "wild_millet = wild_grains * 0.40\n",
    "wild_wheat = 0  # No wheat expected in wild grains\n",
    "\n",
    "total_other_sorghum = household_sorghum + shop_sorghum + company_sorghum + informal_sorghum + food_aid_sorghum + wild_sorghum\n",
    "total_other_millet = household_millet + shop_millet + company_millet + informal_millet + food_aid_millet + wild_millet\n",
    "total_other_wheat = household_wheat + shop_wheat + company_wheat + informal_wheat + food_aid_wheat + wild_wheat\n",
    "\n",
    "print(f\"Other sorghum: {total_other_sorghum} metric tons\")\n",
    "print(f\"Other millet: {total_other_millet} metric tons\")\n",
    "print(f\"Other wheat: {total_other_wheat} metric tons\")"
   ]
  },
  {
   "cell_type": "code",
   "execution_count": 28,
   "id": "91727893-7237-401b-a41b-7022c545c4bf",
   "metadata": {},
   "outputs": [],
   "source": [
    "# Now, combine this with the harvest data\n",
    "ALL_sorg = tot_sorg + total_other_sorghum\n",
    "ALL_millet = tot_millet + total_other_millet\n",
    "ALL_wheat = tot_wheat + total_other_wheat"
   ]
  },
  {
   "cell_type": "markdown",
   "id": "7d103f94-113e-42ec-999b-0c971784fcf4",
   "metadata": {},
   "source": [
    "### Assume some stocks remain\n",
    "It is unlikely that every kilo of grain is consumed at the end of the time period. Presumably some will remain in stocks for various reasons. Assume that roughly 20 metric tons will remain unconsumed."
   ]
  },
  {
   "cell_type": "code",
   "execution_count": 29,
   "id": "5a2a07db-a97f-4d41-aa33-1657e157ea4d",
   "metadata": {},
   "outputs": [],
   "source": [
    "ALL_sorg -= 6.6\n",
    "ALL_millet -= 6.6\n",
    "ALL_wheat -= 6.6"
   ]
  },
  {
   "cell_type": "markdown",
   "id": "28e62478-a4c9-4ce4-a996-bc393c43bcb3",
   "metadata": {},
   "source": [
    "## Convert from metric tons of grain to calories\n",
    "\n",
    "\"Comparative Study of Nutritional Value of Wheat, Maize, Sorghum, Millet, and Fonio: Some Cereals Commonly Consumed in Côte d’Ivoire\" European scientific Journal\n",
    "https://eujournal.org/index.php/esj/article/view/13166/13300"
   ]
  },
  {
   "cell_type": "code",
   "execution_count": 30,
   "id": "fcd3c14d-f3f9-409e-9038-88b81780a63c",
   "metadata": {},
   "outputs": [
    {
     "name": "stdout",
     "output_type": "stream",
     "text": [
      "wheat conv: 308.22 Kcal_per_100g_DM\n",
      "sorghum conv: 308.84 Kcal_per_100g_DM\n",
      "millet conv: 319.39 Kcal_per_100g_DMs\n"
     ]
    }
   ],
   "source": [
    "\n",
    "kcal_conv_file = base_path / 'data' / 'raw' / 'available_calories' / 'Jocelyne_etal_nutritional_estimates.csv'\n",
    "\n",
    "kcal  = pd.read_csv(kcal_conv_file)\n",
    "\n",
    "kcal[kcal.parameter == \"EV_Kcal_per_100g_DM\"]\n",
    "\n",
    "wheat_conv =  kcal[kcal.parameter == \"EV_Kcal_per_100g_DM\"]['Wheat'].values[0]\n",
    "sorg_conv =  kcal[kcal.parameter == \"EV_Kcal_per_100g_DM\"]['Sorghum'].values[0]\n",
    "millet_conv =  kcal[kcal.parameter == \"EV_Kcal_per_100g_DM\"]['Millet'].values[0]\n",
    "\n",
    "print(f\"wheat conv: {wheat_conv} Kcal_per_100g_DM\")\n",
    "print(f\"sorghum conv: {sorg_conv} Kcal_per_100g_DM\")\n",
    "print(f\"millet conv: {millet_conv} Kcal_per_100g_DMs\")\n"
   ]
  },
  {
   "cell_type": "markdown",
   "id": "e68fce9d-adeb-47e7-9eb7-77c4f6438043",
   "metadata": {},
   "source": [
    "\n",
    "The above conversion (EV (Energy Value) (Kcal / 100g DM)) is based on 100g dry weight of grain. So we need to take out the part of th weight that is water, and convert the kilos into 100-gram portions (the EV data is per 100 grams).\n",
    "\n",
    "I looked up some data on moisture content, but it is fairly complicated as it depends on local conditions, time after harvest, etc. so for now I just say 11% for all. For details, see the following sources:\n",
    "\n",
    "- [This source on millet](https://www.ncbi.nlm.nih.gov/pmc/articles/PMC6582004/) suggests percent moisture of 10.45-11.02%.\n",
    "\n",
    " <!-- \"Initial moisture content of raw grains was determined for the triplicate samples by measuring the loss in weight of 5 g sample by drying at 130 ± 2 °C for 2 h (AACC2003) in hot air oven. \n",
    "\"The initial moisture content and equilibrium moisture content of the little millet grain were 11.02% (d.b.) and 38–49.8% (d.b.), respectively\"\n",
    "Proso millet grain ... initial moisture content of 10.45% (db.) -->\n",
    "\n",
    "\n",
    "- [Wheat percent moisture in Iran](https://www.sciencedirect.com/science/article/pii/S2214317319301696)\n",
    "<!--  Prediction of wheat moisture content at harvest time through ANN and SVR modeling techniques\n",
    "Iran - 15% - cereals in 2014/15. ... \"the highest agricultural production rate of 14.9% was attributed to wheat in this crop year\n",
    "Wheat harvesting operation starts when the crop is at physiological maturity and its moisture content falls to 14%, but it could be varied according to management policies.\n",
    "\"In Iran, because of the sufficiently high air temperatures and the lack of heavy rainfalls or extreme weather events, wheat harvesting operations usually start when the grain moisture content is about 12–16%.\"\n",
    " grain moisture loss depends on air temperature, humidity, and crop cultivar -->\n",
    "\n",
    "- [Sorghum](https://www.uaex.uada.edu/publications/pdf/mp297/gschapter10.pdf) : \"Once harvested, grain sorghum should quickly be dried down to a MC of about 12% wet basis for proper storage, particularly if it is going to be stored for several months\"\n",
    "<!-- \"In Arkansas, grain sorghum does not always field-dry to a safe moisture content (MC) of 12% wet basis due to our humid environment.\"\n",
    "Acc to their table 10-1, can range from 9.6 (if 40 degrees & 30% relative humidity) to 17.2. -->\n"
   ]
  },
  {
   "cell_type": "code",
   "execution_count": 31,
   "id": "a04f3ab9-f5c3-4ee3-9376-8ed55d8abbca",
   "metadata": {},
   "outputs": [],
   "source": [
    "wheat_pct_water = .11 # placeholder...\n",
    "millet_pct_water = .11 # placeholder...\n",
    "sorg_pct_water = .11 # placeholder...\n",
    "\n",
    "\n",
    "kg_sorg = ALL_sorg * 1000  # total sorghum in kg\n",
    "kg_sorg_DM = kg_sorg * (1-sorg_pct_water)\n",
    "\n",
    "kg_wheat = ALL_wheat * 1000  # wheat to kg\n",
    "kg_wheat_DM = kg_wheat * (1-wheat_pct_water)\n",
    "\n",
    "kg_millet = ALL_millet * 1000  # millet to kg\n",
    "kg_millet_DM = kg_millet * (1-millet_pct_water)"
   ]
  },
  {
   "cell_type": "markdown",
   "id": "574f444a-0737-4926-9fb7-a7dc9b6f3c42",
   "metadata": {},
   "source": [
    "We can now use the dry matter conversion to calculate calories:"
   ]
  },
  {
   "cell_type": "code",
   "execution_count": 32,
   "id": "3b74c733-99c7-4b0d-8756-08eed47a737f",
   "metadata": {},
   "outputs": [
    {
     "name": "stdout",
     "output_type": "stream",
     "text": [
      "Sorghum calories: 9757204436778.40 Kcal\n",
      "Wheat calories: 3804467725357.20 Kcal\n",
      "Millet calories: 2983373206371.40 Kcal\n",
      "Total calories from all grains: 16545045368507.00 Kcal\n"
     ]
    }
   ],
   "source": [
    "# Each kg has 10 100-gram portions\n",
    "sorg_kcal = kg_sorg_DM * 10 * sorg_conv\n",
    "wheat_kcal = kg_wheat_DM * 10 * wheat_conv\n",
    "millet_kcal = kg_millet_DM * 10 * millet_conv\n",
    "\n",
    "\n",
    "print(f\"Sorghum calories: {sorg_kcal:.2f} Kcal\")\n",
    "print(f\"Wheat calories: {wheat_kcal:.2f} Kcal\")\n",
    "print(f\"Millet calories: {millet_kcal:.2f} Kcal\")\n",
    "\n",
    "total_kcal = sorg_kcal + wheat_kcal + millet_kcal\n",
    "print(f\"Total calories from all grains: {total_kcal:.2f} Kcal\")\n"
   ]
  },
  {
   "cell_type": "markdown",
   "id": "516232de-bebd-4351-b859-fd87bfca5798",
   "metadata": {},
   "source": [
    "## Include non-grain sources of food\n",
    "\n",
    "It is difficult to get data on other food sources. Instead, we will just assume that 70% of calories are from grain (following Clingendael \"From hunger to death\" report p.3, which in turn cites FEWSNET).\n"
   ]
  },
  {
   "cell_type": "code",
   "execution_count": 34,
   "id": "fce04fbe-8619-4592-a75e-3db393d10a06",
   "metadata": {},
   "outputs": [
    {
     "name": "stdout",
     "output_type": "stream",
     "text": [
      "Calories from non-grain sources: 7090733729360.14 Kcal\n",
      "Total calories including grain and non-grain sources: 23635779097867.14 Kcal\n"
     ]
    }
   ],
   "source": [
    "# Add additional calories from non-grain sources\n",
    "\n",
    "pct_non_grain_kcal = .30\n",
    "grain_kcal_percentage = 1 - pct_non_grain_kcal  # 70%\n",
    "\n",
    "total_kcal_with_non_grain = total_kcal / grain_kcal_percentage\n",
    "\n",
    "non_grain_kcal = total_kcal_with_non_grain - total_kcal\n",
    "\n",
    "print(f\"Calories from non-grain sources: {non_grain_kcal:.2f} Kcal\")\n",
    "\n",
    "print(f\"Total calories including grain and non-grain sources: {total_kcal_with_non_grain:.2f} Kcal\")\n",
    "\n",
    "# (verify no errors) non_grain_kcal / (total_kcal + non_grain_kcal) # should be same as pct_non_grain_kcal - correct.\n"
   ]
  },
  {
   "cell_type": "markdown",
   "id": "11d0a159-feed-48ff-8ddc-6b60330d9358",
   "metadata": {},
   "source": [
    "## Sanity check\n",
    "\n",
    "I have no idea how many calories that is! For now, just to get a rough sense, we will assume each human consumes 2200 kCal per day and ask how many days of food this would provide for 50 million people, a rough estimate of the population of Sudan.\n",
    "\n"
   ]
  },
  {
   "cell_type": "code",
   "execution_count": 35,
   "id": "52fbc0be-d2e5-4adf-98ae-986d38184904",
   "metadata": {},
   "outputs": [
    {
     "name": "stdout",
     "output_type": "stream",
     "text": [
      "The total calories would feed 50,000,000.0 people for approximately 214.87 days.\n"
     ]
    }
   ],
   "source": [
    "# calculate how many days would the calories would be sufficient to feed 50M people.\n",
    "\n",
    "caloric_requirement_per_person = 2200  # kcal/day\n",
    "population = 5e7  # 50 million people\n",
    "\n",
    "daily_caloric_needs = population * caloric_requirement_per_person\n",
    "\n",
    "days_of_food = total_kcal_with_non_grain / daily_caloric_needs\n",
    "\n",
    "print(f\"The total calories would feed {population:,} people for approximately {days_of_food:.2f} days.\")"
   ]
  },
  {
   "cell_type": "code",
   "execution_count": 36,
   "id": "bef204af-78fe-44c9-a911-df840144c2f7",
   "metadata": {},
   "outputs": [
    {
     "name": "stdout",
     "output_type": "stream",
     "text": [
      "The total calories would feed 45,000,000.0 people for approximately 262.62 days.\n"
     ]
    }
   ],
   "source": [
    "# If instead the population is only 45 million and we assume 2000 kcal / day:\n",
    "\n",
    "caloric_requirement_per_person = 2000  # kcal/day\n",
    "population = 45e6  # 45 million people\n",
    "\n",
    "daily_caloric_needs = population * caloric_requirement_per_person\n",
    "\n",
    "days_of_food = total_kcal_with_non_grain / daily_caloric_needs\n",
    "\n",
    "print(f\"The total calories would feed {population:,} people for approximately {days_of_food:.2f} days.\")"
   ]
  },
  {
   "cell_type": "markdown",
   "id": "c3069df9-b2da-4ff2-ac1d-d766010f4340",
   "metadata": {},
   "source": [
    "## Next steps\n",
    "\n",
    "This was just a first step. It should make clear there are a number of assumptions along the way that need to be investigated more thoroughly. Next, in another notebook we will try to consider the impact of the limited supply of calories on excess death estimates, making assumptions about unequal distributions of food among the population and BMI estimates for these different segments."
   ]
  }
 ],
 "metadata": {
  "kernelspec": {
   "display_name": "Python 3 (ipykernel)",
   "language": "python",
   "name": "python3"
  },
  "language_info": {
   "codemirror_mode": {
    "name": "ipython",
    "version": 3
   },
   "file_extension": ".py",
   "mimetype": "text/x-python",
   "name": "python",
   "nbconvert_exporter": "python",
   "pygments_lexer": "ipython3",
   "version": "3.9.20"
  }
 },
 "nbformat": 4,
 "nbformat_minor": 5
}
